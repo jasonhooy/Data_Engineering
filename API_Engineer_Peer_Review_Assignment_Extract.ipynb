{
 "cells": [
  {
   "cell_type": "markdown",
   "metadata": {},
   "source": [
    "<p style=\"text-align:center\">\n",
    "    <a href=\"https://skills.network/?utm_medium=Exinfluencer&utm_source=Exinfluencer&utm_content=000026UJ&utm_term=10006555&utm_id=NA-SkillsNetwork-Channel-SkillsNetworkCoursesIBMDeveloperSkillsNetworkPY0221ENSkillsNetwork23455645-2022-01-01\" target=\"_blank\">\n",
    "    <img src=\"https://cf-courses-data.s3.us.cloud-object-storage.appdomain.cloud/assets/logos/SN_web_lightmode.png\" width=\"200\" alt=\"Skills Network Logo\"  />\n",
    "    </a>\n",
    "</p>\n"
   ]
  },
  {
   "cell_type": "markdown",
   "metadata": {},
   "source": [
    "# Peer Review Assignment - Data Engineer - Extract API Data\n"
   ]
  },
  {
   "cell_type": "markdown",
   "metadata": {},
   "source": [
    "Estimated time needed: **20** minutes\n"
   ]
  },
  {
   "cell_type": "markdown",
   "metadata": {},
   "source": [
    "## Objectives\n",
    "\n",
    "In this part you will:\n",
    "\n",
    "*   Collect exchange rate data using an API\n",
    "*   Store the data as a CSV\n"
   ]
  },
  {
   "cell_type": "markdown",
   "metadata": {},
   "source": [
    "For this lab, we are going to be using Python and several Python libraries. Some of these libraries might be installed in your lab environment or in SN Labs. Others may need to be installed by you. The cells below will install these libraries when executed.\n"
   ]
  },
  {
   "cell_type": "code",
   "execution_count": null,
   "metadata": {},
   "outputs": [],
   "source": [
    "#!mamba install pandas==1.3.3 -y\n",
    "#!mamba install requests==2.26.0 -y"
   ]
  },
  {
   "cell_type": "markdown",
   "metadata": {},
   "source": [
    "## Imports\n",
    "\n",
    "Import any additional libraries you may need here.\n"
   ]
  },
  {
   "cell_type": "code",
   "execution_count": 1,
   "metadata": {},
   "outputs": [],
   "source": [
    "import requests\n",
    "import pandas as pd"
   ]
  },
  {
   "cell_type": "markdown",
   "metadata": {},
   "source": [
    "## Extract Data Using an API\n"
   ]
  },
  {
   "cell_type": "markdown",
   "metadata": {},
   "source": [
    "Using ExchangeRate-API we will extract currency exchange rate data. Use the below steps to get the access key and to get the data.\n",
    "\n",
    "1.  Open the url : [https://exchangeratesapi.io/](https://exchangeratesapi.io/?utm_medium=Exinfluencer&utm_source=Exinfluencer&utm_content=000026UJ&utm_term=10006555&utm_id=NA-SkillsNetwork-Channel-SkillsNetworkCoursesIBMDeveloperSkillsNetworkPY0221ENSkillsNetwork23455645-2022-01-01) and click on **Get Free API Key**.\n",
    "2.  Subscribe for Free plan and Sign-in with the Google Account.\n",
    "3.  Once the account is created you will be redirected to [https://apilayer.com](https://apilayer.com/?utm_medium=Exinfluencer&utm_source=Exinfluencer&utm_content=000026UJ&utm_term=10006555&utm_id=NA-SkillsNetwork-Channel-SkillsNetworkCoursesIBMDeveloperSkillsNetworkPY0221ENSkillsNetwork23455645-2022-01-01) website.\n",
    "4.  Now, click on the **user icon** and click **Account** as shown below:\n",
    "\n",
    "<img src=\"https://cf-courses-data.s3.us.cloud-object-storage.appdomain.cloud/IBMDeveloperSkillsNetwork-PY0221EN-SkillsNetwork/labs/module%206/Final%20Assignment/Images/account.png\"/>\n",
    "\n",
    "3.  Scroll down and you will get the API Key section. Copy the API key and use in the url in Question 1.\n"
   ]
  },
  {
   "cell_type": "markdown",
   "metadata": {},
   "source": [
    "### Call the API\n",
    "\n",
    "<b> Question 1</b> Using the `requests` library call the endpoint given above and save the text, remember the first few characters of the output:\n"
   ]
  },
  {
   "cell_type": "code",
   "execution_count": 3,
   "metadata": {},
   "outputs": [],
   "source": [
    "# Write your code here\n",
    "url = \"https://api.apilayer.com/exchangerates_data/latest?base=EUR&apikey=h2jPrbfv14RYQQn5SI8UMHu2PxK1OQ9I\""
   ]
  },
  {
   "cell_type": "code",
   "execution_count": 8,
   "metadata": {},
   "outputs": [],
   "source": [
    "response=requests.get(url)\n",
    "json=response.json()"
   ]
  },
  {
   "cell_type": "code",
   "execution_count": 24,
   "metadata": {},
   "outputs": [
    {
     "name": "stdout",
     "output_type": "stream",
     "text": [
      "b'{\\n    \"success\": true,\\n    \"timestamp\": 1665734224,\\n    \"base\": \"EUR\",\\n    \"date\": \"2022-10-14\",\\n    \"rates\": {\\n        \"AED\": 3.58673,\\n        \"AFN\": 83.568729,\\n        \"ALL\": 116.559964,\\n        \"AMD\": 392.075331,\\n        \"ANG\": 1.752098,\\n        \"AOA\": 430.617942,\\n        \"ARS\": 147.739506,\\n        \"AUD\": 1.544857,\\n        \"AWG\": 1.760177,\\n        \"AZN\": 1.660773,\\n        \"BAM\": 1.955138,\\n        \"BBD\": 1.962926,\\n        \"BDT\": 99.238697,\\n        \"BGN\": 1.951709,\\n        \"BHD\": 0.368258,\\n        \"BIF\": 2008.57839,\\n        \"BMD\": 0.97652,\\n        \"BND\": 1.393678,\\n        \"BOB\": 6.717624,\\n        \"BRL\": 5.137275,\\n        \"BSD\": 0.972166,\\n        \"BTC\": 4.9643874e-05,\\n        \"BTN\": 80.088671,\\n        \"BWP\": 13.067112,\\n        \"BYN\": 2.465053,\\n        \"BYR\": 19139.783896,\\n        \"BZD\": 1.959627,\\n        \"CAD\": 1.342959,\\n        \"CDF\": 1998.935856,\\n        \"CHF\": 0.975251,\\n        \"CLF\": 0.033196,\\n        \"CLP\": 915.985587,\\n        \"CNY\": 7.012972,\\n        \"COP\": 4468.270437,\\n        \"CRC\": 608.488535,\\n        \"CUC\": 0.97652,\\n        \"CUP\": 25.877769,\\n        \"CVE\": 110.227139,\\n        \"CZK\": 24.603897,\\n        \"DJF\": 173.070554,\\n        \"DKK\": 7.438394,\\n        \"DOP\": 52.364941,\\n        \"DZD\": 136.763516,\\n        \"EGP\": 19.199253,\\n        \"ERN\": 14.647794,\\n        \"ETB\": 51.431881,\\n        \"EUR\": 1,\\n        \"FJD\": 2.260008,\\n        \"FKP\": 0.861803,\\n        \"GBP\": 0.864244,\\n        \"GEL\": 2.704631,\\n        \"GGP\": 0.861803,\\n        \"GHS\": 10.547969,\\n        \"GIP\": 0.861803,\\n        \"GMD\": 54.92912,\\n        \"GNF\": 8394.458795,\\n        \"GTQ\": 7.65827,\\n        \"GYD\": 203.388058,\\n        \"HKD\": 7.665532,\\n        \"HNL\": 24.019258,\\n        \"HRK\": 7.532481,\\n        \"HTG\": 121.518528,\\n        \"HUF\": 425.267421,\\n        \"IDR\": 15058.95737,\\n        \"ILS\": 3.45995,\\n        \"IMP\": 0.861803,\\n        \"INR\": 80.448369,\\n        \"IQD\": 1418.918102,\\n        \"IRR\": 41355.604548,\\n        \"ISK\": 140.687291,\\n        \"JEP\": 0.861803,\\n        \"JMD\": 148.620952,\\n        \"JOD\": 0.692393,\\n        \"JPY\": 144.047376,\\n        \"KES\": 118.275352,\\n        \"KGS\": 81.622399,\\n        \"KHR\": 4015.897252,\\n        \"KMF\": 491.628679,\\n        \"KPW\": 878.867494,\\n        \"KRW\": 1398.89394,\\n        \"KWD\": 0.302946,\\n        \"KYD\": 0.810113,\\n        \"KZT\": 464.935543,\\n        \"LAK\": 16795.417132,\\n        \"LBP\": 1469.595226,\\n        \"LKR\": 354.846235,\\n        \"LRD\": 150.042085,\\n        \"LSL\": 17.821292,\\n        \"LTL\": 2.883409,\\n        \"LVL\": 0.590687,\\n        \"LYD\": 4.894719,\\n        \"MAD\": 10.716809,\\n        \"MDL\": 18.884514,\\n        \"MGA\": 4140.307893,\\n        \"MKD\": 61.593213,\\n        \"MMK\": 2041.569965,\\n        \"MNT\": 3280.886251,\\n        \"MOP\": 7.86002,\\n        \"MRO\": 348.617324,\\n        \"MUR\": 43.018484,\\n        \"MVR\": 15.096817,\\n        \"MWK\": 998.532026,\\n        \"MXN\": 19.51964,\\n        \"MYR\": 4.59157,\\n        \"MZN\": 62.330793,\\n        \"NAD\": 17.821414,\\n        \"NGN\": 424.974607,\\n        \"NIO\": 34.967915,\\n        \"NOK\": 10.31776,\\n        \"NPR\": 128.140362,\\n        \"NZD\": 1.726814,\\n        \"OMR\": 0.375972,\\n        \"PAB\": 0.972156,\\n        \"PEN\": 3.870931,\\n        \"PGK\": 3.425418,\\n        \"PHP\": 57.499913,\\n        \"PKR\": 212.420438,\\n        \"PLN\": 4.827251,\\n        \"PYG\": 6931.719104,\\n        \"QAR\": 3.555553,\\n        \"RON\": 4.936603,\\n        \"RSD\": 117.270429,\\n        \"RUB\": 61.740429,\\n        \"RWF\": 1035.934787,\\n        \"SAR\": 3.669545,\\n        \"SBD\": 7.965219,\\n        \"SCR\": 13.702888,\\n        \"SDG\": 554.17109,\\n        \"SEK\": 11.001538,\\n        \"SGD\": 1.389148,\\n        \"SHP\": 1.345062,\\n        \"SLL\": 16283.464114,\\n        \"SOS\": 555.151411,\\n        \"SRD\": 27.408965,\\n        \"STD\": 20211.983856,\\n        \"SVC\": 8.505991,\\n        \"SYP\": 2453.53479,\\n        \"SZL\": 17.767797,\\n        \"THB\": 37.173659,\\n        \"TJS\": 9.892307,\\n        \"TMT\": 3.417819,\\n        \"TND\": 3.184916,\\n        \"TOP\": 2.391592,\\n        \"TRY\": 18.148973,\\n        \"TTD\": 6.598766,\\n        \"TWD\": 31.168355,\\n        \"TZS\": 2277.243773,\\n        \"UAH\": 35.904568,\\n        \"UGX\": 3722.383323,\\n        \"USD\": 0.97652,\\n        \"UYU\": 39.962911,\\n        \"UZS\": 10786.484616,\\n        \"VND\": 23585.877574,\\n        \"VUV\": 122.21132,\\n        \"WST\": 2.778137,\\n        \"XAF\": 655.738483,\\n        \"XAG\": 0.051491,\\n        \"XAU\": 0.000586,\\n        \"XCD\": 2.639093,\\n        \"XDR\": 0.761938,\\n        \"XOF\": 655.73177,\\n        \"XPF\": 119.574478,\\n        \"YER\": 244.373894,\\n        \"ZAR\": 17.748771,\\n        \"ZMK\": 8789.84741,\\n        \"ZMW\": 15.462489,\\n        \"ZWL\": 314.438908\\n    }\\n}\\n'\n"
     ]
    }
   ],
   "source": [
    "print(response.content)"
   ]
  },
  {
   "cell_type": "markdown",
   "metadata": {},
   "source": [
    "### Save as DataFrame\n",
    "\n",
    "<b> Question 2</b>  Using the data gathered turn it into a `pandas` dataframe. The dataframe should have the Currency as the index and `Rate` as their columns. Make sure to drop unnecessary columns.\n"
   ]
  },
  {
   "cell_type": "code",
   "execution_count": 19,
   "metadata": {},
   "outputs": [],
   "source": [
    "# Turn the data into a dataframe\n",
    "df = pd.DataFrame.from_dict(json)\n",
    "df.index.name = \"Currency\""
   ]
  },
  {
   "cell_type": "code",
   "execution_count": 20,
   "metadata": {},
   "outputs": [
    {
     "data": {
      "text/html": [
       "<div>\n",
       "<style scoped>\n",
       "    .dataframe tbody tr th:only-of-type {\n",
       "        vertical-align: middle;\n",
       "    }\n",
       "\n",
       "    .dataframe tbody tr th {\n",
       "        vertical-align: top;\n",
       "    }\n",
       "\n",
       "    .dataframe thead th {\n",
       "        text-align: right;\n",
       "    }\n",
       "</style>\n",
       "<table border=\"1\" class=\"dataframe\">\n",
       "  <thead>\n",
       "    <tr style=\"text-align: right;\">\n",
       "      <th></th>\n",
       "      <th>success</th>\n",
       "      <th>timestamp</th>\n",
       "      <th>base</th>\n",
       "      <th>date</th>\n",
       "      <th>rates</th>\n",
       "    </tr>\n",
       "    <tr>\n",
       "      <th>Currency</th>\n",
       "      <th></th>\n",
       "      <th></th>\n",
       "      <th></th>\n",
       "      <th></th>\n",
       "      <th></th>\n",
       "    </tr>\n",
       "  </thead>\n",
       "  <tbody>\n",
       "    <tr>\n",
       "      <th>AED</th>\n",
       "      <td>True</td>\n",
       "      <td>1665734224</td>\n",
       "      <td>EUR</td>\n",
       "      <td>2022-10-14</td>\n",
       "      <td>3.586730</td>\n",
       "    </tr>\n",
       "    <tr>\n",
       "      <th>AFN</th>\n",
       "      <td>True</td>\n",
       "      <td>1665734224</td>\n",
       "      <td>EUR</td>\n",
       "      <td>2022-10-14</td>\n",
       "      <td>83.568729</td>\n",
       "    </tr>\n",
       "    <tr>\n",
       "      <th>ALL</th>\n",
       "      <td>True</td>\n",
       "      <td>1665734224</td>\n",
       "      <td>EUR</td>\n",
       "      <td>2022-10-14</td>\n",
       "      <td>116.559964</td>\n",
       "    </tr>\n",
       "    <tr>\n",
       "      <th>AMD</th>\n",
       "      <td>True</td>\n",
       "      <td>1665734224</td>\n",
       "      <td>EUR</td>\n",
       "      <td>2022-10-14</td>\n",
       "      <td>392.075331</td>\n",
       "    </tr>\n",
       "    <tr>\n",
       "      <th>ANG</th>\n",
       "      <td>True</td>\n",
       "      <td>1665734224</td>\n",
       "      <td>EUR</td>\n",
       "      <td>2022-10-14</td>\n",
       "      <td>1.752098</td>\n",
       "    </tr>\n",
       "  </tbody>\n",
       "</table>\n",
       "</div>"
      ],
      "text/plain": [
       "          success   timestamp base        date       rates\n",
       "Currency                                                  \n",
       "AED          True  1665734224  EUR  2022-10-14    3.586730\n",
       "AFN          True  1665734224  EUR  2022-10-14   83.568729\n",
       "ALL          True  1665734224  EUR  2022-10-14  116.559964\n",
       "AMD          True  1665734224  EUR  2022-10-14  392.075331\n",
       "ANG          True  1665734224  EUR  2022-10-14    1.752098"
      ]
     },
     "execution_count": 20,
     "metadata": {},
     "output_type": "execute_result"
    }
   ],
   "source": [
    "df.head()"
   ]
  },
  {
   "cell_type": "code",
   "execution_count": 22,
   "metadata": {},
   "outputs": [
    {
     "data": {
      "text/html": [
       "<div>\n",
       "<style scoped>\n",
       "    .dataframe tbody tr th:only-of-type {\n",
       "        vertical-align: middle;\n",
       "    }\n",
       "\n",
       "    .dataframe tbody tr th {\n",
       "        vertical-align: top;\n",
       "    }\n",
       "\n",
       "    .dataframe thead th {\n",
       "        text-align: right;\n",
       "    }\n",
       "</style>\n",
       "<table border=\"1\" class=\"dataframe\">\n",
       "  <thead>\n",
       "    <tr style=\"text-align: right;\">\n",
       "      <th></th>\n",
       "      <th>rates</th>\n",
       "    </tr>\n",
       "    <tr>\n",
       "      <th>Currency</th>\n",
       "      <th></th>\n",
       "    </tr>\n",
       "  </thead>\n",
       "  <tbody>\n",
       "    <tr>\n",
       "      <th>AED</th>\n",
       "      <td>3.586730</td>\n",
       "    </tr>\n",
       "    <tr>\n",
       "      <th>AFN</th>\n",
       "      <td>83.568729</td>\n",
       "    </tr>\n",
       "    <tr>\n",
       "      <th>ALL</th>\n",
       "      <td>116.559964</td>\n",
       "    </tr>\n",
       "    <tr>\n",
       "      <th>AMD</th>\n",
       "      <td>392.075331</td>\n",
       "    </tr>\n",
       "    <tr>\n",
       "      <th>ANG</th>\n",
       "      <td>1.752098</td>\n",
       "    </tr>\n",
       "  </tbody>\n",
       "</table>\n",
       "</div>"
      ],
      "text/plain": [
       "               rates\n",
       "Currency            \n",
       "AED         3.586730\n",
       "AFN        83.568729\n",
       "ALL       116.559964\n",
       "AMD       392.075331\n",
       "ANG         1.752098"
      ]
     },
     "execution_count": 22,
     "metadata": {},
     "output_type": "execute_result"
    }
   ],
   "source": [
    "# Drop unnescessary column\n",
    "df1=df.drop(['success', 'timestamp', 'base', 'date'], axis=1)\n",
    "df1.head()"
   ]
  },
  {
   "cell_type": "markdown",
   "metadata": {},
   "source": [
    "### Load the Data\n",
    "\n",
    "Using the dataframe save it as a CSV names `exchange_rates_1.csv`.\n"
   ]
  },
  {
   "cell_type": "code",
   "execution_count": 23,
   "metadata": {},
   "outputs": [],
   "source": [
    "# Save the Dataframe\n",
    "df1.to_csv(\"exchange_rates_1.csv\")"
   ]
  },
  {
   "cell_type": "markdown",
   "metadata": {},
   "source": [
    "Your CSV should be in this format with more currencies\n",
    "\n",
    "|     | Rates      |\n",
    "| --- | ---------- |\n",
    "| AED | 4.398618   |\n",
    "| AFN | 92.917693  |\n",
    "| ALL | 123.099093 |\n",
    "| AMD | 621.935674 |\n",
    "| ANG | 2.149648   |\n"
   ]
  },
  {
   "cell_type": "markdown",
   "metadata": {},
   "source": [
    "## Authors\n"
   ]
  },
  {
   "cell_type": "markdown",
   "metadata": {},
   "source": [
    "Ramesh Sannareddy, Joseph Santarcangelo and Azim Hirjani\n"
   ]
  },
  {
   "cell_type": "markdown",
   "metadata": {},
   "source": [
    "### Other Contributors\n"
   ]
  },
  {
   "cell_type": "markdown",
   "metadata": {},
   "source": [
    "Rav Ahuja\n"
   ]
  },
  {
   "cell_type": "markdown",
   "metadata": {},
   "source": [
    "## Change Log\n"
   ]
  },
  {
   "cell_type": "markdown",
   "metadata": {},
   "source": [
    "| Date (YYYY-MM-DD) | Version | Changed By        | Change Description                              |\n",
    "| ----------------- | ------- | ----------------- | ----------------------------------------------- |\n",
    "| 2022-05-06        | 0.3     | Malika            | Updated instructions to get the API and the url |\n",
    "| 2021-04-15        | 0.2     | Malika            | Updated the lab from USD to EUR                 |\n",
    "| 2020-11-25        | 0.1     | Ramesh Sannareddy | Created initial version of the lab              |\n"
   ]
  },
  {
   "cell_type": "markdown",
   "metadata": {},
   "source": [
    "Copyright © 2020 IBM Corporation. This notebook and its source code are released under the terms of the [MIT License](https://cognitiveclass.ai/mit-license?utm_medium=Exinfluencer&utm_source=Exinfluencer&utm_content=000026UJ&utm_term=10006555&utm_id=NA-SkillsNetwork-Channel-SkillsNetworkCoursesIBMDeveloperSkillsNetworkPY0221ENSkillsNetwork23455645-2022-01-01&cm_mmc=Email_Newsletter-\\_-Developer_Ed%2BTech-\\_-WW_WW-\\_-SkillsNetwork-Courses-IBM-DA0321EN-SkillsNetwork-21426264&cm_mmca1=000026UJ&cm_mmca2=10006555&cm_mmca3=M12345678&cvosrc=email.Newsletter.M12345678&cvo_campaign=000026UJ).\n"
   ]
  }
 ],
 "metadata": {
  "kernelspec": {
   "display_name": "Python",
   "language": "python",
   "name": "conda-env-python-py"
  },
  "language_info": {
   "codemirror_mode": {
    "name": "ipython",
    "version": 3
   },
   "file_extension": ".py",
   "mimetype": "text/x-python",
   "name": "python",
   "nbconvert_exporter": "python",
   "pygments_lexer": "ipython3",
   "version": "3.7.12"
  }
 },
 "nbformat": 4,
 "nbformat_minor": 4
}
